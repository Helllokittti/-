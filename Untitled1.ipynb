{
  "nbformat": 4,
  "nbformat_minor": 0,
  "metadata": {
    "colab": {
      "provenance": [],
      "authorship_tag": "ABX9TyOoba2YhhHFjSuPDwl5ZSZr",
      "include_colab_link": true
    },
    "kernelspec": {
      "name": "python3",
      "display_name": "Python 3"
    },
    "language_info": {
      "name": "python"
    }
  },
  "cells": [
    {
      "cell_type": "markdown",
      "metadata": {
        "id": "view-in-github",
        "colab_type": "text"
      },
      "source": [
        "<a href=\"https://colab.research.google.com/github/Helllokittti/Codes-Pyton-BDK/blob/main/Untitled1.ipynb\" target=\"_parent\"><img src=\"https://colab.research.google.com/assets/colab-badge.svg\" alt=\"Open In Colab\"/></a>"
      ]
    },
    {
      "cell_type": "code",
      "execution_count": 3,
      "metadata": {
        "colab": {
          "base_uri": "https://localhost:8080/"
        },
        "id": "456GqJLiKYzM",
        "outputId": "b0af6565-ad2a-464a-db4d-c9475aedc344"
      },
      "outputs": [
        {
          "output_type": "stream",
          "name": "stdout",
          "text": [
            "Requirement already satisfied: opencv-python in /usr/local/lib/python3.10/dist-packages (4.10.0.84)\n",
            "Requirement already satisfied: numpy>=1.21.2 in /usr/local/lib/python3.10/dist-packages (from opencv-python) (1.26.4)\n",
            "Colorized image saved to output.jpg\n"
          ]
        }
      ],
      "source": [
        "# prompt: код который раскрашивает чб картинки в и превращает их в цветные\n",
        "\n",
        "!pip install opencv-python\n",
        "\n",
        "import cv2\n",
        "import numpy as np\n",
        "\n",
        "def colorize_image(image_path, output_path):\n",
        "    # Load the grayscale image\n",
        "    img = cv2.imread(image_path, cv2.IMREAD_GRAYSCALE)\n",
        "\n",
        "    # Check if the image was loaded successfully\n",
        "    if img is None:\n",
        "        print(f\"Error: Could not load image at {image_path}\")\n",
        "        return\n",
        "\n",
        "    # Apply a colorization algorithm (example: simple color mapping)\n",
        "    # This is a very basic example, more sophisticated methods exist.\n",
        "    colored_img = cv2.cvtColor(img, cv2.COLOR_GRAY2BGR)\n",
        "    # Example color mapping: Map grayscale values to a specific color\n",
        "    # For instance, map darker shades to blue, mid-tones to green and brighter shades to red.\n",
        "\n",
        "    # Example implementation of color mapping\n",
        "    rows, cols = img.shape\n",
        "    for i in range(rows):\n",
        "        for j in range(cols):\n",
        "            gray_val = img[i, j]\n",
        "\n",
        "            if gray_val < 26:  # Very dark\n",
        "                colored_img[i, j] = [128, 0, 128]  # Purple\n",
        "            elif gray_val < 51:  # Dark purple\n",
        "                colored_img[i, j] = [75, 0, 130]  # Indigo\n",
        "            elif gray_val < 77:  # Dark blue\n",
        "                colored_img[i, j] = [0, 0, 255]  # Blue\n",
        "            elif gray_val < 102:  # Light blue\n",
        "                colored_img[i, j] = [0, 255, 255]  # Cyan\n",
        "            elif gray_val < 128:  # Green\n",
        "                colored_img[i, j] = [0, 255, 0]  # Green\n",
        "            elif gray_val < 153:  # Yellow-green\n",
        "                colored_img[i, j] = [173, 255, 47]  # Yellow-green\n",
        "            elif gray_val < 179:  # Yellow\n",
        "                colored_img[i, j] = [255, 255, 0]  # Yellow\n",
        "            elif gray_val < 204:  # Orange\n",
        "                colored_img[i, j] = [255, 165, 0]  # Orange\n",
        "            elif gray_val < 230:  # Red\n",
        "                colored_img[i, j] = [255, 69, 0]  # Orange-red\n",
        "            else:  # Very bright\n",
        "                colored_img[i, j] = [255, 0, 0]  # Red\n",
        "\n",
        "    # Save the colorized image\n",
        "    cv2.imwrite(output_path, colored_img)\n",
        "\n",
        "\n",
        "# Example usage\n",
        "image_path = 'input.jpg'  # Replace with the path to your grayscale image\n",
        "output_path = 'output.jpg' # Replace with the desired output path\n",
        "colorize_image(image_path, output_path)\n",
        "\n",
        "print(f\"Colorized image saved to {output_path}\")"
      ]
    }
  ]
}